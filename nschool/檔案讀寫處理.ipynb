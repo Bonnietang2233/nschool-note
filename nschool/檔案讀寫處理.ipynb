{
 "cells": [
  {
   "cell_type": "code",
   "execution_count": 7,
   "metadata": {},
   "outputs": [],
   "source": [
    "f = open('./foo.txt')"
   ]
  },
  {
   "cell_type": "code",
   "execution_count": 8,
   "metadata": {},
   "outputs": [],
   "source": [
    "f.close()"
   ]
  },
  {
   "cell_type": "code",
   "execution_count": 14,
   "metadata": {},
   "outputs": [
    {
     "name": "stdout",
     "output_type": "stream",
     "text": [
      "i am kk\n",
      "you are john\n",
      "\n"
     ]
    }
   ],
   "source": [
    "# 讀取檔案（ 用readline ()代表讀取一行 ）\n",
    "with open('./foo.txt') as f:\n",
    "    print(f.readline())"
   ]
  },
  {
   "cell_type": "code",
   "execution_count": null,
   "metadata": {},
   "outputs": [],
   "source": [
    "# 讀取檔案（ 用read ()代表讀取所有 ）\n",
    "with open('./foo.txt') as f:\n",
    "    print(f.read())"
   ]
  },
  {
   "cell_type": "code",
   "execution_count": 15,
   "metadata": {},
   "outputs": [],
   "source": [
    "# f.read() 檔案小\n",
    "# f.read(12) 檔案格式（很清楚檔案格式時使用）\n",
    "# f.readline() 一次一行\n",
    "# f.readlines() 一次一行（ 變成複數，可用字串的方式撰寫）"
   ]
  },
  {
   "cell_type": "code",
   "execution_count": 19,
   "metadata": {},
   "outputs": [
    {
     "name": "stdout",
     "output_type": "stream",
     "text": [
      "you are john\n",
      "\n"
     ]
    }
   ],
   "source": [
    "with open('./foo.txt') as f:\n",
    "    lines = f.readlines()\n",
    "    print(lines[1])"
   ]
  },
  {
   "cell_type": "code",
   "execution_count": 32,
   "metadata": {},
   "outputs": [],
   "source": [
    "# 寫入檔案（ 用write ()代表寫入檔案 ）（一定要有mode）（a 代表 append是在原先資料上不斷增加）（w 代表 write 會把原先資料清空再寫入）\n",
    "with open('./bar.txt', mode='a') as f1:\n",
    "    f1.write('hello world')\n",
    "\n",
    "# 讀取檔案（ 用read ()代表讀取所有檔案 ）\n",
    "with open('./bar.txt') as f2:\n",
    "    print(f2.read())"
   ]
  },
  {
   "cell_type": "code",
   "execution_count": 29,
   "metadata": {},
   "outputs": [],
   "source": [
    "with open('./bar1.txt', mode='w') as f2:\n",
    "    f2.write('hello world')"
   ]
  },
  {
   "cell_type": "code",
   "execution_count": 34,
   "metadata": {},
   "outputs": [],
   "source": [
    "with open('./woo.txt', mode='w') as f3:\n",
    "    f3.writelines([\n",
    "        'hi i am kk\\n',\n",
    "        'u are good'\n",
    "    ])"
   ]
  },
  {
   "cell_type": "code",
   "execution_count": null,
   "metadata": {},
   "outputs": [],
   "source": []
  }
 ],
 "metadata": {
  "kernelspec": {
   "display_name": "Python 3",
   "language": "python",
   "name": "python3"
  },
  "language_info": {
   "codemirror_mode": {
    "name": "ipython",
    "version": 3
   },
   "file_extension": ".py",
   "mimetype": "text/x-python",
   "name": "python",
   "nbconvert_exporter": "python",
   "pygments_lexer": "ipython3",
   "version": "3.7.6"
  }
 },
 "nbformat": 4,
 "nbformat_minor": 4
}
